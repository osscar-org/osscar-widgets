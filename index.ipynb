{
 "cells": [
  {
   "cell_type": "markdown",
   "id": "364b9412-4102-489a-ba16-5d6611d5bcf8",
   "metadata": {},
   "source": [
    "# **List of OSSCAR Widgets**"
   ]
  },
  {
   "cell_type": "markdown",
   "id": "09f4a276-eca2-4263-8ea4-3583a1c7f111",
   "metadata": {},
   "source": [
    "<ol style=\"font-size:18px\">\n",
    "    <li><a href=\"./bandsplot/widget-bandsplot.ipynb\">widget-bandsplot: A widget to plot interactive bandstructure and density of states.</a></li>\n",
    "</ol>"
   ]
  },
  {
   "cell_type": "code",
   "execution_count": null,
   "id": "42a0182c-d9c6-4603-9be2-2f8eba45fe83",
   "metadata": {},
   "outputs": [],
   "source": []
  }
 ],
 "metadata": {
  "kernelspec": {
   "display_name": "Python 3 (ipykernel)",
   "language": "python",
   "name": "python3"
  },
  "language_info": {
   "codemirror_mode": {
    "name": "ipython",
    "version": 3
   },
   "file_extension": ".py",
   "mimetype": "text/x-python",
   "name": "python",
   "nbconvert_exporter": "python",
   "pygments_lexer": "ipython3",
   "version": "3.9.12"
  }
 },
 "nbformat": 4,
 "nbformat_minor": 5
}
