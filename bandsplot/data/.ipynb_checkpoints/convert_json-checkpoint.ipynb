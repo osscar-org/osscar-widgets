{
 "cells": [
  {
   "cell_type": "code",
   "execution_count": 13,
   "id": "b8691278-ecf8-47ba-9f58-e227d9315631",
   "metadata": {},
   "outputs": [],
   "source": [
    "from widget_bandsplot import *\n",
    "import json\n",
    "import numpy as np\n",
    "\n",
    "with open('./pdosdata_Co_spins_tdos.json', 'r') as file:\n",
    "    data = json.load(file)"
   ]
  },
  {
   "cell_type": "code",
   "execution_count": 14,
   "id": "b6322070-01e6-4d48-9184-b4f3dc35cfd5",
   "metadata": {},
   "outputs": [],
   "source": [
    "def random_color():\n",
    "    import random\n",
    "    r = random.randint(0,255)\n",
    "    g = random.randint(0,255)\n",
    "    b = random.randint(0,255)\n",
    "    return '#%02x%02x%02x' % (r, g, b)"
   ]
  },
  {
   "cell_type": "code",
   "execution_count": 15,
   "id": "b6e71ef7-14f1-4f17-9a26-f032dc982a02",
   "metadata": {},
   "outputs": [],
   "source": [
    "data['fermi_energy']\n",
    "\n",
    "aa = dict()\n",
    "aa['fermi_energy'] = data['fermi_energy']\n",
    "\n",
    "aa['tdos'] = {'x':data['tdos']['energy | eV']['data'], 'y':data['tdos']['values']['dos | states/eV']['data']}\n",
    "aa['tdos']['borderColor'] = random_color()\n",
    "aa['tdos']['backgroundColor'] = random_color()\n",
    "aa['tdos']['lineStyle'] = 'dash'\n",
    "\n",
    "aa['pdos'] = []\n",
    "\n",
    "names = []\n",
    "for i in data['pdos']:\n",
    "    label = i['kind'] + i['orbital'][0] + ' ' + i['orbital'].split('-')[-1]\n",
    "    \n",
    "    if label not in names:\n",
    "        names.append(label)\n",
    "    \n",
    "        x = i['energy | eV']['data']\n",
    "        y = i['pdos | states/eV']['data']\n",
    "        if i['orbital'].split('-')[1] == 'dn':\n",
    "            y = -np.array(y)\n",
    "            y = y.tolist()\n",
    "    \n",
    "        aa['pdos'].append({'x':x, 'y': y,'lineStyle':'soild','borderColor':random_color(),'backgroundColor':random_color(), 'label':label,})\n",
    "    else:\n",
    "        a = aa['pdos'][names.index(label)]['y']\n",
    "        b = i['pdos | states/eV']['data']\n",
    "        \n",
    "        if i['orbital'].split('-')[1] == 'dn':\n",
    "            b = -np.array(b)\n",
    "            b = b.tolist()\n",
    "        \n",
    "        aa['pdos'][names.index(label)]['y'] = np.add(a,b).tolist()"
   ]
  },
  {
   "cell_type": "code",
   "execution_count": 16,
   "id": "8f70b48e-0034-47ed-9755-2705faf5b3f7",
   "metadata": {},
   "outputs": [],
   "source": [
    "with open('data.json', 'w') as fp:\n",
    "    json.dump(aa, fp,  indent=4)"
   ]
  },
  {
   "cell_type": "code",
   "execution_count": 17,
   "id": "8a37acdd-6d3a-4bbe-80c9-8a1753ec7f91",
   "metadata": {},
   "outputs": [],
   "source": [
    "with open('./data.json', 'r') as file:\n",
    "    data1 = json.load(file)"
   ]
  },
  {
   "cell_type": "code",
   "execution_count": 18,
   "id": "f3fa040e-3690-4477-94fd-0fd655565d5d",
   "metadata": {},
   "outputs": [
    {
     "data": {
      "application/vnd.jupyter.widget-view+json": {
       "model_id": "a4008fff638a4c148737011c79e8f64c",
       "version_major": 2,
       "version_minor": 0
      },
      "text/plain": [
       "BandsPlotWidget(dos={'fermi_energy': 18.249471602831, 'tdos': {'x': [10.257, 10.277, 10.297, 10.317, 10.337, 1…"
      ]
     },
     "metadata": {},
     "output_type": "display_data"
    }
   ],
   "source": [
    "w3 = BandsPlotWidget(dos=data1, plot_fermilevel = True, show_legend = True, energy_range = {\"ymin\": -8.0, \"ymax\": 8.0})\n",
    "display(w3)"
   ]
  },
  {
   "cell_type": "code",
   "execution_count": 7,
   "id": "3cd53baf-3d54-4a1b-987f-40aa32488a55",
   "metadata": {},
   "outputs": [],
   "source": [
    "from widget_bandsplot import *\n",
    "import json\n",
    "import numpy as np\n",
    "\n",
    "with open('./Si_dos.json', 'r') as file:\n",
    "    data = json.load(file)"
   ]
  },
  {
   "cell_type": "code",
   "execution_count": 8,
   "id": "94c54aad-ec7c-450a-9905-cb064145ee7f",
   "metadata": {},
   "outputs": [],
   "source": [
    "def random_color():\n",
    "    import random\n",
    "    r = random.randint(0,255)\n",
    "    g = random.randint(0,255)\n",
    "    b = random.randint(0,255)\n",
    "    return '#%02x%02x%02x' % (r, g, b)"
   ]
  },
  {
   "cell_type": "code",
   "execution_count": 9,
   "id": "27e44fc1-67e1-44cf-92f5-132cb1e788bc",
   "metadata": {},
   "outputs": [],
   "source": [
    "data['fermi_energy']\n",
    "\n",
    "aa = dict()\n",
    "aa['fermi_energy'] = data['fermi_energy']\n",
    "\n",
    "aa['tdos'] = {'x':data['tdos']['energy | eV']['data'], 'y':data['tdos']['values']['dos | states/eV']['data']}\n",
    "aa['tdos']['borderColor'] = random_color()\n",
    "aa['tdos']['backgroundColor'] = random_color()\n",
    "aa['tdos']['lineStyle'] = 'dash'\n",
    "\n",
    "aa['pdos'] = []\n",
    "\n",
    "names = []\n",
    "for i in data['pdos']:\n",
    "    label = i['kind'] + ' ' + i['orbital']\n",
    "    \n",
    "    if label not in names:\n",
    "        names.append(label)\n",
    "    \n",
    "        x = i['energy | eV']['data']\n",
    "        y = i['pdos | states/eV']['data']\n",
    "    \n",
    "        aa['pdos'].append({'x':x, 'y': y,'lineStyle':'soild','borderColor':random_color(),'backgroundColor':random_color(), 'label':label,})\n",
    "    else:\n",
    "        a = aa['pdos'][names.index(label)]['y']\n",
    "        b = i['pdos | states/eV']['data']\n",
    "        \n",
    "        aa['pdos'][names.index(label)]['y'] = np.add(a,b).tolist()"
   ]
  },
  {
   "cell_type": "code",
   "execution_count": 10,
   "id": "7c629ecb-bc44-4654-8901-f15e11654c04",
   "metadata": {},
   "outputs": [],
   "source": [
    "with open('data2.json', 'w') as fp:\n",
    "    json.dump(aa, fp,  indent=4)"
   ]
  },
  {
   "cell_type": "code",
   "execution_count": 11,
   "id": "a0556ade-0cb3-41fc-b000-93b96ffc2c28",
   "metadata": {},
   "outputs": [],
   "source": [
    "with open('./data2.json', 'r') as file:\n",
    "    data2 = json.load(file)\n",
    "    \n",
    "with open('../Si_bands.json', 'r') as file:\n",
    "    data1 = json.load(file)"
   ]
  },
  {
   "cell_type": "code",
   "execution_count": 12,
   "id": "664cc8f5-5e20-4506-adcb-89c5fc935f39",
   "metadata": {},
   "outputs": [
    {
     "data": {
      "application/vnd.jupyter.widget-view+json": {
       "model_id": "e42c5d18870e4dbf9d69bddeb37cb681",
       "version_major": 2,
       "version_minor": 0
      },
      "text/plain": [
       "BandsPlotWidget(dos={'fermi_energy': 6.3970257023273, 'tdos': {'x': [-1.533, -1.433, -1.333, -1.233, -1.133, -…"
      ]
     },
     "metadata": {},
     "output_type": "display_data"
    }
   ],
   "source": [
    "w4 = BandsPlotWidget(dos=data2, plot_fermilevel = True, show_legend = True, energy_range = {\"ymin\": -8.0, \"ymax\": 8.0})\n",
    "display(w4)"
   ]
  },
  {
   "cell_type": "code",
   "execution_count": null,
   "id": "0fb43b59-c4fe-46fd-a4dd-800f13447704",
   "metadata": {},
   "outputs": [],
   "source": [
    "w5 = BandsPlotWidget(bands=[data1], dos=data2, plot_fermilevel = True, show_legend = True, energy_range = {\"ymin\": -13.0, \"ymax\": 10.0})\n",
    "display(w5)"
   ]
  },
  {
   "cell_type": "code",
   "execution_count": null,
   "id": "19cb3552-3252-49ae-843e-5f0087f6e1e1",
   "metadata": {},
   "outputs": [],
   "source": []
  }
 ],
 "metadata": {
  "kernelspec": {
   "display_name": "Python 3 (ipykernel)",
   "language": "python",
   "name": "python3"
  },
  "language_info": {
   "codemirror_mode": {
    "name": "ipython",
    "version": 3
   },
   "file_extension": ".py",
   "mimetype": "text/x-python",
   "name": "python",
   "nbconvert_exporter": "python",
   "pygments_lexer": "ipython3",
   "version": "3.9.12"
  }
 },
 "nbformat": 4,
 "nbformat_minor": 5
}
