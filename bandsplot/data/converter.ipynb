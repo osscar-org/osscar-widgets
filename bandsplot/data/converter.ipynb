{
 "cells": [
  {
   "cell_type": "code",
   "execution_count": 1,
   "id": "7a26cd1c-7824-4422-b195-d791e90bb37d",
   "metadata": {},
   "outputs": [],
   "source": [
    "import json\n",
    "import random\n",
    "from widget_bandsplot import *\n",
    "import numpy as np"
   ]
  },
  {
   "cell_type": "code",
   "execution_count": 2,
   "id": "2cc4be1d-2b02-424f-8c1b-424cd0bc838a",
   "metadata": {},
   "outputs": [],
   "source": [
    "with open('./Co_dos.json', 'r') as file:\n",
    "    data = json.load(file)"
   ]
  },
  {
   "cell_type": "code",
   "execution_count": 3,
   "id": "38d39621-0e26-4056-a643-cd7e65028dd5",
   "metadata": {},
   "outputs": [],
   "source": [
    "def random_color():\n",
    "    return \"rgba(\"+str(random.randint(0,255))+ \",\" + str(random.randint(0,255)) + \",\" + str(random.randint(0,255)) + \",0.2)\" "
   ]
  },
  {
   "cell_type": "code",
   "execution_count": null,
   "id": "66311473-d66a-47e6-ae72-487bd476d00a",
   "metadata": {},
   "outputs": [],
   "source": [
    "for i in data['dos']:\n",
    "    i[\"backgroundColor\"] = random_color()"
   ]
  },
  {
   "cell_type": "code",
   "execution_count": null,
   "id": "403272e9-0791-4d5c-8252-d8732e5186c7",
   "metadata": {},
   "outputs": [],
   "source": [
    "with open(\"sample1.json\", \"w\") as outfile:\n",
    "    json.dump(data, outfile, indent=4, sort_keys=True)"
   ]
  },
  {
   "cell_type": "code",
   "execution_count": null,
   "id": "2d0bd493-2112-4179-94ec-4d4223b8cbef",
   "metadata": {},
   "outputs": [],
   "source": []
  },
  {
   "cell_type": "code",
   "execution_count": null,
   "id": "cb629643-e68d-4628-99ad-9eab11ec9173",
   "metadata": {},
   "outputs": [],
   "source": [
    "x = data['dos'][1]"
   ]
  },
  {
   "cell_type": "code",
   "execution_count": null,
   "id": "5e5b662e-d2b7-4f1b-a2b8-2653815bd9e5",
   "metadata": {},
   "outputs": [],
   "source": [
    "data['dos'] = [x]"
   ]
  },
  {
   "cell_type": "code",
   "execution_count": null,
   "id": "63158b21-6c84-415c-9baf-c397c2abb814",
   "metadata": {},
   "outputs": [],
   "source": [
    "with open('Co_bands.json', 'r') as file:\n",
    "    data3 = json.load(file)"
   ]
  },
  {
   "cell_type": "code",
   "execution_count": null,
   "id": "24b47e07-d951-4ff8-aa1e-23dbb5a06100",
   "metadata": {},
   "outputs": [],
   "source": [
    "w2 = BandsPlotWidget(bands=[data3], dos=data, plot_fermilevel = False, show_legend = True, energy_range = {\"ymin\": -30.0, \"ymax\": 30.0})\n",
    "display(w2)"
   ]
  },
  {
   "cell_type": "code",
   "execution_count": null,
   "id": "076a1203-1b90-42ae-a576-f201c81cc891",
   "metadata": {},
   "outputs": [],
   "source": [
    "np.where(np.array(x['y']) < 0.0)"
   ]
  },
  {
   "cell_type": "code",
   "execution_count": null,
   "id": "d13af929-749c-4a2b-9bd6-0922bf8a9c31",
   "metadata": {},
   "outputs": [],
   "source": []
  },
  {
   "cell_type": "code",
   "execution_count": null,
   "id": "603fc130-0023-43e2-a5a7-baed1172ba64",
   "metadata": {},
   "outputs": [],
   "source": [
    "import numpy as np"
   ]
  },
  {
   "cell_type": "code",
   "execution_count": null,
   "id": "abcdcc01-f55b-4ac7-8565-cb2b11739257",
   "metadata": {},
   "outputs": [],
   "source": [
    "a = np.array([12, 303, 2, 10])"
   ]
  },
  {
   "cell_type": "code",
   "execution_count": null,
   "id": "fee96f09-ff4a-4c20-a488-f3a04e48f4be",
   "metadata": {},
   "outputs": [],
   "source": [
    "max(a)"
   ]
  },
  {
   "cell_type": "code",
   "execution_count": null,
   "id": "152caaff-4dba-48f9-b6f7-d673afc894c5",
   "metadata": {},
   "outputs": [],
   "source": [
    "min(a)"
   ]
  },
  {
   "cell_type": "code",
   "execution_count": null,
   "id": "463b263a-2f39-4a0f-969b-8939d4ee0f1f",
   "metadata": {},
   "outputs": [],
   "source": []
  }
 ],
 "metadata": {
  "kernelspec": {
   "display_name": "Python 3 (ipykernel)",
   "language": "python",
   "name": "python3"
  },
  "language_info": {
   "codemirror_mode": {
    "name": "ipython",
    "version": 3
   },
   "file_extension": ".py",
   "mimetype": "text/x-python",
   "name": "python",
   "nbconvert_exporter": "python",
   "pygments_lexer": "ipython3",
   "version": "3.9.12"
  }
 },
 "nbformat": 4,
 "nbformat_minor": 5
}
